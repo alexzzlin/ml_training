{
 "cells": [
  {
   "cell_type": "markdown",
   "metadata": {
    "colab_type": "text",
    "id": "bOChJSNXtC9g"
   },
   "source": [
    "# Introduction to Python"
   ]
  },
  {
   "cell_type": "markdown",
   "metadata": {
    "colab_type": "text",
    "id": "OLIxEDq6VhvZ"
   },
   "source": [
    "In this lesson we will learn the basics of the Python programming language (version 3). We won't learn everything about Python but enough to do some basic machine learning.\n",
    "\n",
    "<img src=\"figures/python.png\" width=350>\n",
    "\n",
    "\n"
   ]
  },
  {
   "cell_type": "markdown",
   "metadata": {
    "colab_type": "text",
    "id": "VoMq0eFRvugb"
   },
   "source": [
    "#  Variables"
   ]
  },
  {
   "cell_type": "markdown",
   "metadata": {
    "colab_type": "text",
    "id": "qWro5T5qTJJL"
   },
   "source": [
    "Variables are objects in Python that can hold anything with numbers or text. Let's look at how to create some variables."
   ]
  },
  {
   "cell_type": "code",
   "execution_count": 2,
   "metadata": {
    "colab": {
     "base_uri": "https://localhost:8080/",
     "height": 34
    },
    "colab_type": "code",
    "id": "0-dXQiLlTIgz",
    "outputId": "38d1f8a5-b067-416b-b042-38a373624a8b"
   },
   "outputs": [
    {
     "name": "stdout",
     "output_type": "stream",
     "text": [
      "10\n"
     ]
    }
   ],
   "source": [
    "# Numerical example\n",
    "\"\"\"I changed 5 to 10\"\"\"\n",
    "x = 10\n",
    "print (x)"
   ]
  },
  {
   "cell_type": "code",
   "execution_count": 3,
   "metadata": {
    "colab": {
     "base_uri": "https://localhost:8080/",
     "height": 34
    },
    "colab_type": "code",
    "id": "5Ym0owFxTkjo",
    "outputId": "72c2781a-4435-4c21-b15a-4c070d47bd86"
   },
   "outputs": [
    {
     "name": "stdout",
     "output_type": "stream",
     "text": [
      "hey\n"
     ]
    }
   ],
   "source": [
    "# Text example\n",
    "\"\"\"I changed hello to hey\"\"\"\n",
    "x = \"hey\"\n",
    "print (x)"
   ]
  },
  {
   "cell_type": "code",
   "execution_count": 4,
   "metadata": {
    "colab": {
     "base_uri": "https://localhost:8080/",
     "height": 34
    },
    "colab_type": "code",
    "id": "1a4ZhMV1T1-0",
    "outputId": "0817e041-5f79-46d8-84cc-ee4aaea0eba2"
   },
   "outputs": [
    {
     "name": "stdout",
     "output_type": "stream",
     "text": [
      "7\n"
     ]
    }
   ],
   "source": [
    "# Variables can be used with each other\n",
    "\"\"\"I changed a from 1 to 3 and b from 2 to 4\"\"\"\n",
    "a = 3\n",
    "b = 4\n",
    "c = a + b\n",
    "print (c)"
   ]
  },
  {
   "cell_type": "markdown",
   "metadata": {
    "colab_type": "text",
    "id": "nbKV4aTdUC1_"
   },
   "source": [
    "Variables can come in lots of different types. Even within numerical variables, you can have integers (int), floats (float), etc. All text based variables are of type string (str). We can see what type a variable is by printing its type."
   ]
  },
  {
   "cell_type": "code",
   "execution_count": 5,
   "metadata": {
    "colab": {
     "base_uri": "https://localhost:8080/",
     "height": 153
    },
    "colab_type": "code",
    "id": "c3NJmfO4Uc6V",
    "outputId": "04b91fa4-51af-48f4-e9ac-591b5bf3e714",
    "scrolled": true
   },
   "outputs": [
    {
     "name": "stdout",
     "output_type": "stream",
     "text": [
      "7\n",
      "<class 'int'>\n",
      "7.0\n",
      "<class 'float'>\n",
      "7\n",
      "<class 'str'>\n",
      "False\n",
      "<class 'bool'>\n"
     ]
    }
   ],
   "source": [
    "# int variable\n",
    "\"\"\"changed 5 to 7\"\"\"\n",
    "x = 7\n",
    "print (x)\n",
    "print (type(x))\n",
    "\n",
    "# float variable\n",
    "\"\"\"changed 5.0 to 7.0\"\"\"\n",
    "x = 7.0\n",
    "print (x)\n",
    "print (type(x))\n",
    "\n",
    "# text variable\n",
    "\"\"\"changed 5 to 7\"\"\"\n",
    "x = \"7\" \n",
    "print (x)\n",
    "print (type(x))\n",
    "\n",
    "# boolean variable\n",
    "\"\"\"changed True to False\"\"\"\n",
    "x = False\n",
    "print (x)\n",
    "print (type(x))"
   ]
  },
  {
   "cell_type": "markdown",
   "metadata": {
    "colab_type": "text",
    "id": "6HPtavfdU8Ut"
   },
   "source": [
    "It's good practice to know what types your variables are. When you want to use numerical operations on them, they need to be compatible. "
   ]
  },
  {
   "cell_type": "code",
   "execution_count": 6,
   "metadata": {
    "colab": {
     "base_uri": "https://localhost:8080/",
     "height": 51
    },
    "colab_type": "code",
    "id": "8pr1-i7IVD-h",
    "outputId": "c2bce48d-b69f-4aab-95c1-9e588f67a6c3"
   },
   "outputs": [
    {
     "name": "stdout",
     "output_type": "stream",
     "text": [
      "14\n",
      "95\n"
     ]
    }
   ],
   "source": [
    "# int variables\n",
    "\"\"\"changed 5 to 9 for a, and 3 to 5 for b\"\"\"\n",
    "a = 9\n",
    "b = 5\n",
    "print (a + b)\n",
    "\n",
    "# string variables\n",
    "\"\"\"changed 5 to 9 for a, and 3 to 5 for b\"\"\"\n",
    "a = \"9\"\n",
    "b = \"5\"\n",
    "print (a + b)"
   ]
  },
  {
   "cell_type": "markdown",
   "metadata": {
    "colab_type": "text",
    "id": "q4R_UF6PVw4V"
   },
   "source": [
    "#  Lists"
   ]
  },
  {
   "cell_type": "markdown",
   "metadata": {
    "colab_type": "text",
    "id": "LvGsQBj4VjMl"
   },
   "source": [
    "Lists are objects in Python that can hold a ordered sequence of numbers **and** text."
   ]
  },
  {
   "cell_type": "code",
   "execution_count": 16,
   "metadata": {
    "colab": {
     "base_uri": "https://localhost:8080/",
     "height": 34
    },
    "colab_type": "code",
    "id": "9iPESkq9VvlX",
    "outputId": "67dfbe9f-d4cb-4a62-a812-7c5c8a01c2fa"
   },
   "outputs": [
    {
     "name": "stdout",
     "output_type": "stream",
     "text": [
      "[5, 'hey', 10]\n"
     ]
    }
   ],
   "source": [
    "# Creating a list\n",
    "\"\"\"changde [3, \"hello\", 1] to [5, \"hey\", 10]\"\"\"\n",
    "list_x = [5, \"hey\", 10]\n",
    "print (list_x)"
   ]
  },
  {
   "cell_type": "code",
   "execution_count": 17,
   "metadata": {
    "colab": {
     "base_uri": "https://localhost:8080/",
     "height": 34
    },
    "colab_type": "code",
    "id": "7lbajc-zV515",
    "outputId": "4345bbe0-0f0c-4f84-bcf2-a76130899f34"
   },
   "outputs": [
    {
     "name": "stdout",
     "output_type": "stream",
     "text": [
      "[5, 'hey', 10, 9]\n"
     ]
    }
   ],
   "source": [
    "# Adding to a list\n",
    "\"\"\"change 7 to 9\"\"\"\n",
    "list_x.append(9)\n",
    "print (list_x)"
   ]
  },
  {
   "cell_type": "code",
   "execution_count": 18,
   "metadata": {
    "colab": {
     "base_uri": "https://localhost:8080/",
     "height": 102
    },
    "colab_type": "code",
    "id": "W0xpIryJWCN9",
    "outputId": "a7676615-aff1-402f-d41f-81d004728f94"
   },
   "outputs": [
    {
     "name": "stdout",
     "output_type": "stream",
     "text": [
      "list_x[0]:  5\n",
      "list_x[1]:  hey\n",
      "list_x[2]:  10\n",
      "list_x[3]:  9\n",
      "list_x[-1]:  9\n",
      "list_x[-2]:  10\n",
      "list_x[-3]:  hey\n",
      "list_x[-4]:  5\n"
     ]
    }
   ],
   "source": [
    "# Accessing items at specific location in a list\n",
    "\"\"\"display all the items including the last item just added \"\"\"\n",
    "print (\"list_x[0]: \", list_x[0])\n",
    "print (\"list_x[1]: \", list_x[1])\n",
    "print (\"list_x[2]: \", list_x[2])\n",
    "print (\"list_x[3]: \", list_x[3])\n",
    "print (\"list_x[-1]: \", list_x[-1]) # the last item\n",
    "print (\"list_x[-2]: \", list_x[-2]) # the second to last item\n",
    "print (\"list_x[-3]: \", list_x[-3]) # the second to last item\n",
    "print (\"list_x[-4]: \", list_x[-4]) # the second to last item"
   ]
  },
  {
   "cell_type": "code",
   "execution_count": 19,
   "metadata": {
    "colab": {
     "base_uri": "https://localhost:8080/",
     "height": 85
    },
    "colab_type": "code",
    "id": "VSu_HNrnc1WK",
    "outputId": "3c40cce2-9599-41aa-b01c-7c6f39329212"
   },
   "outputs": [
    {
     "name": "stdout",
     "output_type": "stream",
     "text": [
      "list_x[:]:  [5, 'hey', 10, 9]\n",
      "list_x[2:]:  [10, 9]\n",
      "list_x[1:2]:  ['hey']\n",
      "list_x[1:3]:  ['hey', 10]\n",
      "list_x[:-1]:  [5, 'hey', 10]\n",
      "list_x[-2:-1]:  [10]\n"
     ]
    }
   ],
   "source": [
    "# Slicing\n",
    "\"added two different slicings: 1:2, 2-:-1\"\n",
    "print (\"list_x[:]: \", list_x[:])\n",
    "print (\"list_x[2:]: \", list_x[2:])\n",
    "print (\"list_x[1:2]: \", list_x[1:2])  # does not include the item in index 2\n",
    "print (\"list_x[1:3]: \", list_x[1:3])  # does not include the item in index 3\n",
    "print (\"list_x[:-1]: \", list_x[:-1])  # does not include the last item\n",
    "print (\"list_x[-2:-1]: \", list_x[-2:-1]) # does not include the last item"
   ]
  },
  {
   "cell_type": "code",
   "execution_count": 20,
   "metadata": {
    "colab": {
     "base_uri": "https://localhost:8080/",
     "height": 34
    },
    "colab_type": "code",
    "id": "dImY-hVzWxB4",
    "outputId": "8394f232-aa11-4dbd-8580-70adb5adc807"
   },
   "outputs": [
    {
     "data": {
      "text/plain": [
       "5"
      ]
     },
     "execution_count": 20,
     "metadata": {},
     "output_type": "execute_result"
    }
   ],
   "source": [
    "# Length of a list\n",
    "\"\"\"added another entry 5 in string\"\"\"\n",
    "list_x.append('5')\n",
    "len(list_x)"
   ]
  },
  {
   "cell_type": "code",
   "execution_count": 21,
   "metadata": {
    "colab": {
     "base_uri": "https://localhost:8080/",
     "height": 34
    },
    "colab_type": "code",
    "id": "3-reXDniW_sm",
    "outputId": "382d1a40-ad1a-49f7-f70f-2c2a02ffd88d"
   },
   "outputs": [
    {
     "name": "stdout",
     "output_type": "stream",
     "text": [
      "[5, 'hello', 10, 9, '5']\n"
     ]
    }
   ],
   "source": [
    "# Replacing items in a list\n",
    "\"\"\"changed hi to hello\"\"\"\n",
    "list_x[1] = \"hello\"\n",
    "print (list_x)"
   ]
  },
  {
   "cell_type": "code",
   "execution_count": 22,
   "metadata": {
    "colab": {
     "base_uri": "https://localhost:8080/",
     "height": 34
    },
    "colab_type": "code",
    "id": "X8T5I3bjXJ0S",
    "outputId": "1ede1c5c-c6ea-452f-b13d-ff9efd3d53b0"
   },
   "outputs": [
    {
     "name": "stdout",
     "output_type": "stream",
     "text": [
      "[5, 'hello', 10, 9, '5', 4.9, 'earth']\n"
     ]
    }
   ],
   "source": [
    "# Combining lists\n",
    "\"\"\"changed list_y from [2.4, \"world\"] to [4.9, \"earth\"]\"\"\"\n",
    "list_y = [4.9, \"earth\"]\n",
    "list_z = list_x + list_y\n",
    "print (list_z)"
   ]
  },
  {
   "cell_type": "markdown",
   "metadata": {
    "colab_type": "text",
    "id": "ddpIO6LLVzh0"
   },
   "source": [
    "# Tuples"
   ]
  },
  {
   "cell_type": "markdown",
   "metadata": {
    "colab_type": "text",
    "id": "CAZblq7oXY3s"
   },
   "source": [
    "Tuples are also objects in Python that can hold data but you cannot replace their values (for this reason, tuples are called immutable, whereas lists are known as mutable)."
   ]
  },
  {
   "cell_type": "code",
   "execution_count": 23,
   "metadata": {
    "colab": {
     "base_uri": "https://localhost:8080/",
     "height": 34
    },
    "colab_type": "code",
    "id": "G95lu8xWXY90",
    "outputId": "c23250e5-534a-48e6-ed52-f034859f73c2"
   },
   "outputs": [
    {
     "name": "stdout",
     "output_type": "stream",
     "text": [
      "(5.0, 'hey')\n"
     ]
    }
   ],
   "source": [
    "# Creating a tuple\n",
    "\"\"\"changed (3.0, \"hello\") to (5.0, \"hey\")\"\"\"\n",
    "tuple_x = (5.0, \"hey\")\n",
    "print (tuple_x)"
   ]
  },
  {
   "cell_type": "code",
   "execution_count": 24,
   "metadata": {
    "colab": {
     "base_uri": "https://localhost:8080/",
     "height": 34
    },
    "colab_type": "code",
    "id": "kq23Bej1acAP",
    "outputId": "34edfbff-dbc0-4385-a118-7f1bcc49e84f"
   },
   "outputs": [
    {
     "name": "stdout",
     "output_type": "stream",
     "text": [
      "(5.0, 'hey', 8.5)\n"
     ]
    }
   ],
   "source": [
    "# Adding values to a tuple\n",
    "\"\"\"change (5.6,) to (8.5,)\"\"\"\n",
    "tuple_x = tuple_x + (8.5,)\n",
    "print (tuple_x)"
   ]
  },
  {
   "cell_type": "code",
   "execution_count": 25,
   "metadata": {
    "colab": {
     "base_uri": "https://localhost:8080/",
     "height": 164
    },
    "colab_type": "code",
    "id": "vyTmOc6BXkge",
    "outputId": "dadeac9a-4bb4-43a3-ff40-e8ca6a05ba2c"
   },
   "outputs": [
    {
     "ename": "TypeError",
     "evalue": "'tuple' object does not support item assignment",
     "output_type": "error",
     "traceback": [
      "\u001b[1;31m---------------------------------------------------------------------------\u001b[0m",
      "\u001b[1;31mTypeError\u001b[0m                                 Traceback (most recent call last)",
      "\u001b[1;32m<ipython-input-25-837d88103b33>\u001b[0m in \u001b[0;36m<module>\u001b[1;34m\u001b[0m\n\u001b[0;32m      1\u001b[0m \u001b[1;31m# Trying to change a tuples value (you can't, this should produce an error.)\u001b[0m\u001b[1;33m\u001b[0m\u001b[1;33m\u001b[0m\u001b[1;33m\u001b[0m\u001b[0m\n\u001b[0;32m      2\u001b[0m \u001b[1;34m\"\"\"changed world to earth\"\"\"\u001b[0m\u001b[1;33m\u001b[0m\u001b[1;33m\u001b[0m\u001b[0m\n\u001b[1;32m----> 3\u001b[1;33m \u001b[0mtuple_x\u001b[0m\u001b[1;33m[\u001b[0m\u001b[1;36m1\u001b[0m\u001b[1;33m]\u001b[0m \u001b[1;33m=\u001b[0m \u001b[1;34m\"earth\"\u001b[0m\u001b[1;33m\u001b[0m\u001b[1;33m\u001b[0m\u001b[0m\n\u001b[0m",
      "\u001b[1;31mTypeError\u001b[0m: 'tuple' object does not support item assignment"
     ]
    }
   ],
   "source": [
    "# Trying to change a tuples value (you can't, this should produce an error.)\n",
    "\"\"\"changed world to earth\"\"\"\n",
    "tuple_x[1] = \"earth\""
   ]
  },
  {
   "cell_type": "markdown",
   "metadata": {
    "colab_type": "text",
    "id": "UdlJHkwZV3Mz"
   },
   "source": [
    "# Dictionaries"
   ]
  },
  {
   "cell_type": "markdown",
   "metadata": {
    "colab_type": "text",
    "id": "azp3AoxYXS26"
   },
   "source": [
    "Dictionaries are Python objects that hold key-value pairs. In the example dictionary below, the keys are the \"name\" and \"eye_color\" variables. They each have a value associated with them. A dictionary cannot have two of the same keys. "
   ]
  },
  {
   "cell_type": "code",
   "execution_count": 26,
   "metadata": {
    "colab": {
     "base_uri": "https://localhost:8080/",
     "height": 68
    },
    "colab_type": "code",
    "id": "pXhNLbzpXXSk",
    "outputId": "e4bb80e5-4e7b-4cbb-daa6-77490ab25145"
   },
   "outputs": [
    {
     "name": "stdout",
     "output_type": "stream",
     "text": [
      "{'name': 'doggie', 'eye_color': 'brownie'}\n",
      "doggie\n",
      "brownie\n"
     ]
    }
   ],
   "source": [
    "# Creating a dictionary\n",
    "\"\"\"changed {\"name\": \"dog\", \"eye_color\": \"brown\"} to {\"name\": \"doggie\", \"eye_color\": \"brownie\"}\"\"\"\n",
    "dog = {\"name\": \"doggie\",\n",
    "        \"eye_color\": \"brownie\"}\n",
    "print (dog)\n",
    "print (dog[\"name\"])\n",
    "print (dog[\"eye_color\"])\n"
   ]
  },
  {
   "cell_type": "code",
   "execution_count": 27,
   "metadata": {
    "colab": {
     "base_uri": "https://localhost:8080/",
     "height": 34
    },
    "colab_type": "code",
    "id": "1HXtX8vQYjXa",
    "outputId": "ad8d1a0f-d134-4c87-99c1-0f77140f2de0"
   },
   "outputs": [
    {
     "name": "stdout",
     "output_type": "stream",
     "text": [
      "{'name': 'doggie', 'eye_color': 'black'}\n"
     ]
    }
   ],
   "source": [
    "# Changing the value for a key\n",
    "\"\"\"changed green to black\"\"\"\n",
    "dog[\"eye_color\"] = \"black\"\n",
    "print (dog)"
   ]
  },
  {
   "cell_type": "code",
   "execution_count": 28,
   "metadata": {
    "colab": {
     "base_uri": "https://localhost:8080/",
     "height": 34
    },
    "colab_type": "code",
    "id": "qn33iB0MY5dT",
    "outputId": "bd89033e-e307-4739-8c1d-f957c32385b5"
   },
   "outputs": [
    {
     "name": "stdout",
     "output_type": "stream",
     "text": [
      "{'name': 'doggie', 'eye_color': 'black', 'weight': 10, 'age': 5}\n"
     ]
    }
   ],
   "source": [
    "# Adding new key-value pairs\n",
    "\"\"\"added key-value pair weight = 10 \"\"\"\n",
    "dog[\"weight\"] = 10\n",
    "dog[\"age\"] = 5\n",
    "print (dog)"
   ]
  },
  {
   "cell_type": "code",
   "execution_count": 29,
   "metadata": {
    "colab": {
     "base_uri": "https://localhost:8080/",
     "height": 34
    },
    "colab_type": "code",
    "id": "g9EYmzMKa9YV",
    "outputId": "4b9218b9-2f4d-4287-932a-caba430713aa"
   },
   "outputs": [
    {
     "name": "stdout",
     "output_type": "stream",
     "text": [
      "4\n"
     ]
    }
   ],
   "source": [
    "# Length of a dictionary\n",
    "print (len(dog))"
   ]
  },
  {
   "cell_type": "markdown",
   "metadata": {
    "colab_type": "text",
    "id": "B-DInx_Xo2vJ"
   },
   "source": [
    "# If statements"
   ]
  },
  {
   "cell_type": "markdown",
   "metadata": {
    "colab_type": "text",
    "id": "ZG_ICGRGo4tY"
   },
   "source": [
    "You can use `if` statements to conditionally do something."
   ]
  },
  {
   "cell_type": "code",
   "execution_count": 30,
   "metadata": {
    "colab": {
     "base_uri": "https://localhost:8080/",
     "height": 34
    },
    "colab_type": "code",
    "id": "uob9lQuKo4Pg",
    "outputId": "21d40476-ea6a-4149-f744-0119d0894d77"
   },
   "outputs": [
    {
     "name": "stdout",
     "output_type": "stream",
     "text": [
      "low\n"
     ]
    }
   ],
   "source": [
    "# If statement\n",
    "\"\"\"change x from 4 to 0\"\"\"\n",
    "x = 0\n",
    "if x < 1:\n",
    "    score = \"low\"\n",
    "elif x <= 4:\n",
    "    score = \"medium\"\n",
    "else:\n",
    "    score = \"high\"\n",
    "print (score)"
   ]
  },
  {
   "cell_type": "code",
   "execution_count": 31,
   "metadata": {
    "colab": {
     "base_uri": "https://localhost:8080/",
     "height": 34
    },
    "colab_type": "code",
    "id": "vwsQaZqIpfJ3",
    "outputId": "1f190875-b910-4e54-a58a-d4230b7c8169"
   },
   "outputs": [
    {
     "name": "stdout",
     "output_type": "stream",
     "text": [
      "something wrong.\n"
     ]
    }
   ],
   "source": [
    "# If statment with a boolean\n",
    "\"\"\"changed x from True to False and added else statement\"\"\"\n",
    "x = False\n",
    "if x:\n",
    "    print (\"it worked\")\n",
    "else:\n",
    "    print (\"something wrong.\")"
   ]
  },
  {
   "cell_type": "markdown",
   "metadata": {
    "colab_type": "text",
    "id": "sJ7NPGEKV6Ik"
   },
   "source": [
    "# Loops"
   ]
  },
  {
   "cell_type": "markdown",
   "metadata": {
    "colab_type": "text",
    "id": "YRVxhVCkn0vc"
   },
   "source": [
    "In Python, you can use `for` loop to iterate over the elements of a sequence such as a list or tuple, or use `while` loop to do something repeatedly as long as a condition holds."
   ]
  },
  {
   "cell_type": "code",
   "execution_count": 39,
   "metadata": {
    "colab": {
     "base_uri": "https://localhost:8080/",
     "height": 68
    },
    "colab_type": "code",
    "id": "OB5PtyqAn8mj",
    "outputId": "b4595670-99d4-473e-b299-bf8cf47f1d81"
   },
   "outputs": [
    {
     "name": "stdout",
     "output_type": "stream",
     "text": [
      "x=2, i=0\n",
      "x=4, i=1\n",
      "x=6, i=2\n",
      "x=8, i=3\n",
      "x=10, i=4\n"
     ]
    }
   ],
   "source": [
    "# For loop\n",
    "\"\"\"Changed x from 1 to 0, 3 in range() to 5, and 1 in the x += 1 statement to 2,\n",
    "   and changed the order to display i and x\"\"\"\n",
    "x = 0\n",
    "for i in range(5): # goes from i=0 to i=4\n",
    "    x += 2 # same as x = x + 2\n",
    "    print (\"x={1}, i={0}\".format(i, x)) # printing with multiple variables"
   ]
  },
  {
   "cell_type": "code",
   "execution_count": 41,
   "metadata": {
    "colab": {
     "base_uri": "https://localhost:8080/",
     "height": 68
    },
    "colab_type": "code",
    "id": "6XyhCrFeoGj4",
    "outputId": "2427ae1f-85f7-4888-f47f-8de1992a84c3"
   },
   "outputs": [
    {
     "name": "stdout",
     "output_type": "stream",
     "text": [
      "i=0, x=0\n",
      "i=1, x=1\n",
      "i=2, x=3\n",
      "i=3, x=6\n"
     ]
    }
   ],
   "source": [
    "# Loop through items in a list\n",
    "\"changed x from 1 to 0, the increment in x by 1 to each element i in the list, and add 3 to the list of numbers [0,1,2]\"\n",
    "x = 0\n",
    "for i in [0, 1, 2, 3]:\n",
    "    x += i\n",
    "    print (\"i={0}, x={1}\".format(i, x))"
   ]
  },
  {
   "cell_type": "code",
   "execution_count": 42,
   "metadata": {
    "colab": {
     "base_uri": "https://localhost:8080/",
     "height": 68
    },
    "colab_type": "code",
    "id": "5Tf2x4okp3fH",
    "outputId": "1ac41665-2f35-4c7d-e9f5-22614d3ba35c"
   },
   "outputs": [
    {
     "name": "stdout",
     "output_type": "stream",
     "text": [
      "4\n",
      "3\n",
      "2\n"
     ]
    }
   ],
   "source": [
    "# While loop\n",
    "\"\"\"changed x from 3 to 2, and the while condition from x > 0 to x > 2\"\"\"\n",
    "x = 5\n",
    "while x > 2:\n",
    "    x -= 1 # same as x = x - 1\n",
    "    print (x)"
   ]
  },
  {
   "cell_type": "markdown",
   "metadata": {
    "colab_type": "text",
    "id": "gJw-EDO9WBL_"
   },
   "source": [
    "# Functions"
   ]
  },
  {
   "cell_type": "markdown",
   "metadata": {
    "colab_type": "text",
    "id": "hDIOUdWCqBwa"
   },
   "source": [
    "Functions are a way to modularize reusable pieces of code. "
   ]
  },
  {
   "cell_type": "code",
   "execution_count": 43,
   "metadata": {
    "colab": {
     "base_uri": "https://localhost:8080/",
     "height": 34
    },
    "colab_type": "code",
    "id": "iin1ZXmMqA0y",
    "outputId": "3bfae4a7-482b-4d43-8350-f8bb5e8a35ac"
   },
   "outputs": [
    {
     "name": "stdout",
     "output_type": "stream",
     "text": [
      "13\n"
     ]
    }
   ],
   "source": [
    "# Create a function\n",
    "\"\"\"changed increments from 2 to 3, thus renamed the function from add_two to add_three\n",
    "   changed score from 0 to 10\"\"\"\n",
    "def add_three(x):\n",
    "    x += 3\n",
    "    return x\n",
    "\n",
    "# Use the function\n",
    "score = 10\n",
    "score = add_three(x=score)\n",
    "print (score)"
   ]
  },
  {
   "cell_type": "code",
   "execution_count": 44,
   "metadata": {
    "colab": {
     "base_uri": "https://localhost:8080/",
     "height": 34
    },
    "colab_type": "code",
    "id": "DC6x3DMrqlE3",
    "outputId": "8965bfab-3e20-41ae-9fc1-f22a7d4f3333"
   },
   "outputs": [
    {
     "name": "stdout",
     "output_type": "stream",
     "text": [
      "John A. Doe\n"
     ]
    }
   ],
   "source": [
    "# Function with multiple inputs\n",
    "\"\"\"added another input - middle name \"\"\"\n",
    "def join_name(first_name, middle_name, last_name):\n",
    "    joined_name = first_name + \" \" + middle_name + \" \" + last_name\n",
    "    return joined_name\n",
    "\n",
    "# Use the function\n",
    "first_name = \"John\"\n",
    "middle_name = \"A.\"\n",
    "last_name = \"Doe\"\n",
    "joined_name = join_name(first_name=first_name, middle_name=middle_name, last_name=last_name)\n",
    "print (joined_name)"
   ]
  },
  {
   "cell_type": "markdown",
   "metadata": {
    "colab_type": "text",
    "id": "lBLa1n54WEd2"
   },
   "source": [
    "# Classes"
   ]
  },
  {
   "cell_type": "markdown",
   "metadata": {
    "colab_type": "text",
    "id": "mGua8QnArAZh"
   },
   "source": [
    "Classes are a fundamental piece of object oriented programming in Python."
   ]
  },
  {
   "cell_type": "code",
   "execution_count": 54,
   "metadata": {
    "colab": {},
    "colab_type": "code",
    "id": "DXmPwI1frAAd"
   },
   "outputs": [],
   "source": [
    "# Creating the class\n",
    "\"\"\"added gender, weight and age properties, updated function to display for printing, and added functions to update them\"\"\"\n",
    "class Pets(object):\n",
    "  \n",
    "    # Initialize the class\n",
    "    def __init__(self, species, color, name, gender, age, weight):\n",
    "        self.species = species\n",
    "        self.gender = gender\n",
    "        self.color = color\n",
    "        self.name = name\n",
    "        self.weight = weight\n",
    "        self.age = age\n",
    "\n",
    "    # For printing\n",
    "    \"\"\" Expanded its expression formula\"\"\"\n",
    "    def __str__(self):\n",
    "        return \"{0} {1} {2} named {3} weighed {4} lbs {5} year-old.\".format(self.species, self.gender, self.color,\n",
    "                                                                        self.name, self.weight, self.age)\n",
    "\n",
    "    # Example function\n",
    "    def change_name(self, new_name):\n",
    "        self.name = new_name\n",
    "\n",
    "    \"\"\" added functions \"\"\"\n",
    "    def change_age(self, new_age):\n",
    "        self.age = new_age\n",
    "\n",
    "    def change_weight(self, new_weight):\n",
    "        self.weight = new_weight"
   ]
  },
  {
   "cell_type": "code",
   "execution_count": 55,
   "metadata": {
    "colab": {
     "base_uri": "https://localhost:8080/",
     "height": 51
    },
    "colab_type": "code",
    "id": "ezQq_Fhhrqrv",
    "outputId": "bf159745-99b1-4e33-af4d-f63924a1fe74"
   },
   "outputs": [
    {
     "name": "stdout",
     "output_type": "stream",
     "text": [
      "dog Male orange named Rover weighed 4.5 lbs 2.5 year-old.\n",
      "Rover\n",
      "4.5 lbs\n"
     ]
    }
   ],
   "source": [
    "# Creating an instance of a class\n",
    "\"\"\"Added properties of gender, age and weight\"\"\"\n",
    "my_dog = Pets(species=\"dog\", color=\"orange\", name=\"Rover\", gender=\"Male\", age=2.5, weight=4.5)\n",
    "print (my_dog)\n",
    "print (my_dog.name)\n",
    "print (str(my_dog.weight) + \" lbs\")"
   ]
  },
  {
   "cell_type": "code",
   "execution_count": 56,
   "metadata": {
    "colab": {
     "base_uri": "https://localhost:8080/",
     "height": 51
    },
    "colab_type": "code",
    "id": "qTinlRj1szc5",
    "outputId": "80939a31-0242-4465-95ff-da0e5caaa67c"
   },
   "outputs": [
    {
     "name": "stdout",
     "output_type": "stream",
     "text": [
      "dog Male orange named Sparky weighed 6 lbs 3 year-old.\n",
      "Sparky\n",
      "3\n",
      "6\n"
     ]
    }
   ],
   "source": [
    "# Using a class's function\n",
    "my_dog.change_name(new_name=\"Sparky\")\n",
    "my_dog.change_age(new_age=3)\n",
    "my_dog.change_weight(new_weight=6)\n",
    "print (my_dog)\n",
    "print (my_dog.name)\n",
    "\"\"\"Added print statements\"\"\"\n",
    "print (my_dog.age)\n",
    "print (my_dog.weight)"
   ]
  },
  {
   "cell_type": "markdown",
   "metadata": {
    "colab_type": "text",
    "id": "kiWtd0aJtNtY"
   },
   "source": [
    "# Additional resources"
   ]
  },
  {
   "cell_type": "markdown",
   "metadata": {
    "colab_type": "text",
    "id": "cfLF4ktmtSC3"
   },
   "source": [
    "This was a very quick look at Python and we'll be learning more in future lessons. If you want to learn more right now before diving into machine learning, check out this free course: [Free Python Course](https://www.codecademy.com/learn/learn-python-3)"
   ]
  }
 ],
 "metadata": {
  "colab": {
   "collapsed_sections": [],
   "name": "01_Python",
   "provenance": [],
   "toc_visible": true,
   "version": "0.3.2"
  },
  "kernelspec": {
   "display_name": "Python 3",
   "language": "python",
   "name": "python3"
  },
  "language_info": {
   "codemirror_mode": {
    "name": "ipython",
    "version": 3
   },
   "file_extension": ".py",
   "mimetype": "text/x-python",
   "name": "python",
   "nbconvert_exporter": "python",
   "pygments_lexer": "ipython3",
   "version": "3.8.3"
  }
 },
 "nbformat": 4,
 "nbformat_minor": 4
}
